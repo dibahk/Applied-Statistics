{
 "cells": [
  {
   "cell_type": "markdown",
   "metadata": {},
   "source": [
    "Question 1"
   ]
  },
  {
   "cell_type": "code",
   "execution_count": 1,
   "metadata": {},
   "outputs": [],
   "source": [
    "def set_union(input):\n",
    "    if type(input) != set:\n",
    "        print(\"the input data type isn't correct\")\n",
    "    else:\n",
    "        return len(input)\n"
   ]
  },
  {
   "cell_type": "code",
   "execution_count": 2,
   "metadata": {},
   "outputs": [
    {
     "data": {
      "text/plain": [
       "3"
      ]
     },
     "execution_count": 2,
     "metadata": {},
     "output_type": "execute_result"
    }
   ],
   "source": [
    "set_union({\"a\",'b','c'})"
   ]
  },
  {
   "cell_type": "markdown",
   "metadata": {},
   "source": [
    "type errpr check"
   ]
  },
  {
   "cell_type": "code",
   "execution_count": 10,
   "metadata": {},
   "outputs": [
    {
     "name": "stdout",
     "output_type": "stream",
     "text": [
      "the input data type isn't correct\n"
     ]
    }
   ],
   "source": [
    "set_union(('a', 'b', 'c'))"
   ]
  },
  {
   "cell_type": "markdown",
   "metadata": {},
   "source": [
    "union validation check"
   ]
  },
  {
   "cell_type": "code",
   "execution_count": 3,
   "metadata": {},
   "outputs": [
    {
     "data": {
      "text/plain": [
       "True"
      ]
     },
     "execution_count": 3,
     "metadata": {},
     "output_type": "execute_result"
    }
   ],
   "source": [
    "set_union({'a','b','c'}.union({'d','e','f'})) == set_union({'a','b','c'}) + set_union({'d','e','f'})"
   ]
  },
  {
   "cell_type": "markdown",
   "metadata": {},
   "source": [
    "Question 2"
   ]
  },
  {
   "cell_type": "code",
   "execution_count": 4,
   "metadata": {},
   "outputs": [],
   "source": [
    "class Intervals:\n",
    "    def __init__(self, interval):\n",
    "        if len(interval)>2:\n",
    "            print(\"Error\")      \n",
    "        self.start = interval[0]\n",
    "        self.end = interval[1]\n",
    "        if (type(self.start) != float and type(self.end) !=float) and (type(self.start) != int and type(self.end) !=int):\n",
    "            print(\"wrong data type for interval\")\n",
    "    def length(self):\n",
    "        if (type(self.start) != float and type(self.end) !=float) and (type(self.start) != int and type(self.end) !=int):\n",
    "            print(\"ERROR! can't calculate length\")\n",
    "        else:\n",
    "            return self.end - self.start"
   ]
  },
  {
   "cell_type": "code",
   "execution_count": 5,
   "metadata": {},
   "outputs": [
    {
     "data": {
      "text/plain": [
       "2.5"
      ]
     },
     "execution_count": 5,
     "metadata": {},
     "output_type": "execute_result"
    }
   ],
   "source": [
    "v = Intervals([1,3.5])\n",
    "v.length()"
   ]
  },
  {
   "cell_type": "markdown",
   "metadata": {},
   "source": [
    "Question 3"
   ]
  },
  {
   "cell_type": "code",
   "execution_count": 6,
   "metadata": {},
   "outputs": [],
   "source": [
    "import scipy.stats\n",
    "class Expon_measure:\n",
    "    def __init__(self, interval):\n",
    "        self.interval = interval\n",
    "    def  probability_mass(self, l):\n",
    "        return scipy.stats.expon.cdf(self.interval.end, scale = 1/l) - scipy.stats.expon.cdf(self.interval.start, scale = 1/l)"
   ]
  },
  {
   "cell_type": "code",
   "execution_count": 7,
   "metadata": {},
   "outputs": [
    {
     "name": "stdout",
     "output_type": "stream",
     "text": [
      "a) 0.8646647167633873\n",
      "b) 0.0\n",
      "c) 0.13533528117545912\n",
      "d) 1.0\n"
     ]
    }
   ],
   "source": [
    "a = Intervals([0,1])\n",
    "print(\"a) {}\".format(Expon_measure(a).probability_mass(2)))\n",
    "b = Intervals([1,1])\n",
    "print(\"b) {}\".format(Expon_measure(b).probability_mass(2)))\n",
    "c = Intervals([1,10])\n",
    "print(\"c) {}\".format(Expon_measure(c).probability_mass(2)))\n",
    "d = Intervals([0,float('inf')])\n",
    "print(\"d) {}\".format(Expon_measure(d).probability_mass(2)))"
   ]
  },
  {
   "cell_type": "code",
   "execution_count": 8,
   "metadata": {},
   "outputs": [
    {
     "data": {
      "text/plain": [
       "[<matplotlib.lines.Line2D at 0x1de6d42bb10>]"
      ]
     },
     "execution_count": 8,
     "metadata": {},
     "output_type": "execute_result"
    },
    {
     "data": {
      "image/png": "[encoded data removed]",
      "text/plain": [
       "<Figure size 640x480 with 1 Axes>"
      ]
     },
     "metadata": {},
     "output_type": "display_data"
    }
   ],
   "source": [
    "import numpy as np\n",
    "import matplotlib.pyplot as plt\n",
    "x = np.linspace(scipy.stats.expon.ppf(0.01),scipy.stats.expon.ppf(0.99), 100)\n",
    "plt.plot(x, scipy.stats.expon.pdf(x, scale=1/2),\n",
    "       'b', label='expon(2) pdf')"
   ]
  },
  {
   "cell_type": "markdown",
   "metadata": {},
   "source": [
    "as it is shown in the above plot, it can be seen that as we go forward the area under the curve decreases therefore probability mass of [0,1] is bigger than [1,10]. \n",
    "moreover, the overall area under this curve is 1 so the CDF of [0,+inf] interval would equal to 1.0\n",
    "and the length of the interval is zero for [1,1] ao the probability mass of a single point is 0.0. In conclusion, these results make sense"
   ]
  },
  {
   "cell_type": "markdown",
   "metadata": {},
   "source": [
    "Question 4"
   ]
  },
  {
   "cell_type": "code",
   "execution_count": 9,
   "metadata": {},
   "outputs": [
    {
     "name": "stdout",
     "output_type": "stream",
     "text": [
      "a) (0.8646647167633872, 9.59970677131702e-15)\n",
      "b) (0.0, 0.0)\n",
      "c) (0.13533528117545912, 2.4502060294750595e-09)\n",
      "d) (1.0, 1.5470063370305476e-10)\n"
     ]
    }
   ],
   "source": [
    "from scipy.integrate import quad\n",
    "expon_pdf = lambda x: scipy.stats.expon.pdf(x,scale = 1/2)\n",
    "scipy.integrate.quad(expon_pdf,0,1)\n",
    "print(\"a) {}\".format(quad(expon_pdf,0,1)))\n",
    "print(\"b) {}\".format(quad(expon_pdf,1,1)))\n",
    "print(\"c) {}\".format(quad(expon_pdf,1,10)))\n",
    "print(\"d) {}\".format(quad(expon_pdf,0,float('inf'))))"
   ]
  },
  {
   "cell_type": "markdown",
   "metadata": {},
   "source": [
    "the results are in such a way that the first number is the result of our computation and the second number is the error of it. the results of the last two questions are the same to a good extent and it proves that the integral of PDF in an interval is the same as the CDF of the same function in the same interval.\n",
    "since we are basically using the same probability measures, when we integrate the area under the curve we are basically calculating the probability of having a random variable in the given interval. at the same time CDF in an interval has the same definition therefore these two calculations create the same results"
   ]
  },
  {
   "cell_type": "markdown",
   "metadata": {},
   "source": []
  }
 ],
 "metadata": {
  "kernelspec": {
   "display_name": "Python 3",
   "language": "python",
   "name": "python3"
  },
  "language_info": {
   "codemirror_mode": {
    "name": "ipython",
    "version": 3
   },
   "file_extension": ".py",
   "mimetype": "text/x-python",
   "name": "python",
   "nbconvert_exporter": "python",
   "pygments_lexer": "ipython3",
   "version": "3.11.1"
  }
 },
 "nbformat": 4,
 "nbformat_minor": 2
}
